{
 "cells": [
  {
   "cell_type": "markdown",
   "metadata": {},
   "source": [
    "# Создание коробки"
   ]
  },
  {
   "cell_type": "code",
   "execution_count": 1,
   "metadata": {},
   "outputs": [
    {
     "name": "stdout",
     "output_type": "stream",
     "text": [
      "oooooooooo\n",
      "o        o\n",
      "o        o\n",
      "o        o\n",
      "oooooooooo"
     ]
    }
   ],
   "source": [
    "n=5\n",
    "for i in range(n+n):\n",
    "    print('o', end='')\n",
    "print()\n",
    "for j in range(n-2):\n",
    "    for i in range(n+n):\n",
    "        if i == 0 or i == n+n-1:\n",
    "            print('o', end='')\n",
    "        else:\n",
    "            print(' ',end='')\n",
    "    print()\n",
    "for i in range(n+n):\n",
    "    print('o', end='')"
   ]
  },
  {
   "cell_type": "markdown",
   "metadata": {},
   "source": []
  },
  {
   "cell_type": "markdown",
   "metadata": {},
   "source": []
  }
 ],
 "metadata": {
  "kernelspec": {
   "display_name": "Python 3",
   "language": "python",
   "name": "python3"
  },
  "language_info": {
   "codemirror_mode": {
    "name": "ipython",
    "version": 3
   },
   "file_extension": ".py",
   "mimetype": "text/x-python",
   "name": "python",
   "nbconvert_exporter": "python",
   "pygments_lexer": "ipython3",
   "version": "3.6.7"
  }
 },
 "nbformat": 4,
 "nbformat_minor": 2
}
