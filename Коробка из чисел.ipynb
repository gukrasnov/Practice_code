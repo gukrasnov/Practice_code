{
 "cells": [
  {
   "cell_type": "markdown",
   "metadata": {},
   "source": [
    "# Коробка из чисел"
   ]
  },
  {
   "cell_type": "code",
   "execution_count": 1,
   "metadata": {},
   "outputs": [
    {
     "name": "stdout",
     "output_type": "stream",
     "text": [
      "1  3  5  7  9  9  7  5  3  1  \n",
      "3  5  7  9        9  7  5  3  \n",
      "5  7  9              9  7  5  \n",
      "7  9                    9  7  \n",
      "9                          9  \n",
      "9                          9  \n",
      "7  9                    9  7  \n",
      "5  7  9              9  7  5  \n",
      "3  5  7  9        9  7  5  3  \n",
      "1  3  5  7  9  9  7  5  3  1  \n"
     ]
    }
   ],
   "source": [
    "n=5\n",
    "for i in range(1, n*2+1, 2):\n",
    "    for j in range(i, n*2+1, 2):\n",
    "        print(j, end=' ')\n",
    "        if j <= 9:\n",
    "            print(end=' ')\n",
    "    for j in range(1, i):\n",
    "        print(' ', end='  ')\n",
    "    for j in range(n*2-1, i-1, -2):\n",
    "        print(j, end=' ')\n",
    "        if j <= 9:\n",
    "            print(end=' ')\n",
    "    print()\n",
    "for i in range(1, n*2, 2):\n",
    "    for j in range(n*2-i, n*2+1, 2):\n",
    "        print(j, end=' ')\n",
    "        if j <= 9:\n",
    "            print(end=' ')\n",
    "    for j in range(n*2-i, 1, -1):\n",
    "        print(' ', end='  ')\n",
    "    for j in range(n*2-1, n*2-i-1, -2):\n",
    "        print(j, end=' ')\n",
    "        if j <= 9:\n",
    "            print(end=' ')\n",
    "    print()"
   ]
  },
  {
   "cell_type": "markdown",
   "metadata": {},
   "source": []
  },
  {
   "cell_type": "markdown",
   "metadata": {},
   "source": []
  }
 ],
 "metadata": {
  "kernelspec": {
   "display_name": "Python 3",
   "language": "python",
   "name": "python3"
  },
  "language_info": {
   "codemirror_mode": {
    "name": "ipython",
    "version": 3
   },
   "file_extension": ".py",
   "mimetype": "text/x-python",
   "name": "python",
   "nbconvert_exporter": "python",
   "pygments_lexer": "ipython3",
   "version": "3.6.7"
  }
 },
 "nbformat": 4,
 "nbformat_minor": 2
}
